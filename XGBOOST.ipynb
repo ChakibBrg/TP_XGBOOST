{
 "cells": [
  {
   "cell_type": "markdown",
   "metadata": {},
   "source": [
    "# ***TP_XGBOOST***\n",
    "\n",
    "Dans ce TP, nous allons nous intéresser à étudier l'algorithme de XGBOOST, le comparer avec différents algorithmes et évaluer ses performances selon ces différents hyperparamètres."
   ]
  },
  {
   "cell_type": "code",
   "execution_count": 162,
   "metadata": {},
   "outputs": [],
   "source": [
    "import matplotlib.pyplot as plt\n",
    "import pandas as pd\n",
    "import numpy as np\n",
    "%matplotlib inline"
   ]
  },
  {
   "cell_type": "markdown",
   "metadata": {},
   "source": [
    "# **I. Classification**\n",
    "\n",
    "Dans une première partie, nous allons nous intéresser à la classification. On va importer des datasets de sklearn et entraîner notre modèle de XGBOOST sur de la classification binaire et multi-classes et le comparer avec deux modèles d'arbres de décision, un modèle de régression logistique mais également 2 algortihmes de boosting: GradientBoosting et Adaboost."
   ]
  },
  {
   "cell_type": "markdown",
   "metadata": {},
   "source": [
    "### I.1 Importer les datasets"
   ]
  },
  {
   "cell_type": "markdown",
   "metadata": {},
   "source": [
    "Ici ce sera une dataset binaire pour prédire si un patient est atteint du cancer ou pas : "
   ]
  },
  {
   "cell_type": "code",
   "execution_count": 163,
   "metadata": {},
   "outputs": [
    {
     "data": {
      "text/plain": [
       "((455, 30), (114, 30))"
      ]
     },
     "execution_count": 163,
     "metadata": {},
     "output_type": "execute_result"
    }
   ],
   "source": [
    "from sklearn.datasets import load_iris, fetch_covtype, load_breast_cancer  \n",
    "from sklearn.model_selection import train_test_split\n",
    "\n",
    "\n",
    "cancer = load_breast_cancer()   # Pour la classification binaire\n",
    "X, Y = cancer.data, cancer.target\n",
    "\n",
    "# Diviser les données en ensembles d'entraînement et de test\n",
    "X_train, X_test, Y_train, Y_test = train_test_split(X, Y, test_size=0.2, random_state=42)\n",
    "\n",
    "X_train.shape, X_test.shape"
   ]
  },
  {
   "cell_type": "markdown",
   "metadata": {},
   "source": [
    "Et ici on va importer une dataset multi-classes :"
   ]
  },
  {
   "cell_type": "code",
   "execution_count": 164,
   "metadata": {},
   "outputs": [
    {
     "data": {
      "text/plain": [
       "((464809, 54), (116203, 54))"
      ]
     },
     "execution_count": 164,
     "metadata": {},
     "output_type": "execute_result"
    }
   ],
   "source": [
    "# Charger un jeu de données Iris pour classification\n",
    "# iris = load_iris()\n",
    "# X_multi, Y_multi = iris.data, iris.target\n",
    "\n",
    "covertype = fetch_covtype()\n",
    "X_multi, Y_multi = covertype.data, covertype.target\n",
    "Y_multi = Y_multi - 1   # car les classes dans cette dataset commencent de 1 et pas de 0 \n",
    "\n",
    "X_multi_train, X_multi_test, Y_multi_train, Y_multi_test = train_test_split(X_multi, Y_multi, test_size=0.2, random_state=42)\n",
    "\n",
    "X_multi_train.shape, X_multi_test.shape"
   ]
  },
  {
   "cell_type": "markdown",
   "metadata": {},
   "source": [
    "Cette fonction permet de switcher entre les données binaires et multiclasses en changeant le booléen binaire"
   ]
  },
  {
   "cell_type": "code",
   "execution_count": 165,
   "metadata": {},
   "outputs": [],
   "source": [
    "def choix_type_classfication(binaire : bool):\n",
    "    if binaire:\n",
    "        return train_test_split(X, Y, test_size=0.2, random_state=42)\n",
    "    else:\n",
    "        return train_test_split(X_multi, Y_multi, test_size=0.2, random_state=42)\n",
    "    \n",
    "Xchoix_train, Xchoix_test, Ychoix_train, Ychoix_test = choix_type_classfication(True)"
   ]
  },
  {
   "cell_type": "markdown",
   "metadata": {},
   "source": [
    "### I.2 Entraîner deux modèles d'arbres de décision + un modèle RandomForest"
   ]
  },
  {
   "cell_type": "code",
   "execution_count": 166,
   "metadata": {},
   "outputs": [
    {
     "name": "stdout",
     "output_type": "stream",
     "text": [
      "Fin\n"
     ]
    }
   ],
   "source": [
    "from   sklearn.tree    import DecisionTreeClassifier\n",
    "from sklearn.ensemble import RandomForestClassifier\n",
    "from   sklearn.metrics import accuracy_score, f1_score\n",
    "from   sklearn         import tree\n",
    "import timeit\n",
    "\n",
    "\n",
    "gini_stats          = []\n",
    "entropy_stats       = []\n",
    "randForest_stats       = []\n",
    "gini_classifieur    = DecisionTreeClassifier(criterion='gini'   , random_state=42)\n",
    "entropy_classifieur = DecisionTreeClassifier(criterion='entropy', random_state=42)\n",
    "classifieur = RandomForestClassifier(n_estimators=100)\n",
    "\n",
    "\n",
    "# ============ GINI ====================\n",
    "# ............ Entraînement ............\n",
    "temps_debut = timeit.default_timer()\n",
    "gini_classifieur.fit(Xchoix_train, Ychoix_train)\n",
    "gini_stats.append(timeit.default_timer() - temps_debut)\n",
    "# ..... Evaluation entrainement ........\n",
    "Ychoix_pred = gini_classifieur.predict(Xchoix_train)\n",
    "gini_stats.append(accuracy_score(Ychoix_train, Ychoix_pred))\n",
    "gini_stats.append(f1_score(Ychoix_train, Ychoix_pred, average='micro'))\n",
    "# ................ Test ................\n",
    "temps_debut = timeit.default_timer()\n",
    "Ychoix_pred = gini_classifieur.predict(Xchoix_test)\n",
    "gini_stats.append(timeit.default_timer() - temps_debut)\n",
    "# ........... Evaluation test ...........\n",
    "gini_stats.append(accuracy_score(Ychoix_test, Ychoix_pred))\n",
    "gini_stats.append(f1_score(Ychoix_test, Ychoix_pred, average='micro'))\n",
    "\n",
    "# =========== Entropy ==================\n",
    "# ............ Entraînement ............\n",
    "temps_debut = timeit.default_timer()\n",
    "entropy_classifieur.fit(Xchoix_train, Ychoix_train)\n",
    "entropy_stats.append(timeit.default_timer() - temps_debut)\n",
    "# ..... Evaluation entrainement ........\n",
    "Ychoix_pred = entropy_classifieur.predict(Xchoix_train)\n",
    "entropy_stats.append(accuracy_score(Ychoix_train, Ychoix_pred))\n",
    "entropy_stats.append(f1_score(Ychoix_train, Ychoix_pred, average='micro'))\n",
    "# ................ Test ................\n",
    "temps_debut = timeit.default_timer()\n",
    "Ychoix_pred = entropy_classifieur.predict(Xchoix_test)\n",
    "entropy_stats.append(timeit.default_timer() - temps_debut)\n",
    "# ........... Evaluation test ...........\n",
    "entropy_stats.append(accuracy_score(Ychoix_test, Ychoix_pred))\n",
    "entropy_stats.append(f1_score(Ychoix_test, Ychoix_pred, average='micro'))\n",
    "\n",
    "# =========== Random forest ==================\n",
    "#............ Entraînement ............\n",
    "temps_debut = timeit.default_timer()\n",
    "classifieur.fit(Xchoix_train, Ychoix_train)\n",
    "randForest_stats.append(timeit.default_timer() - temps_debut)\n",
    "# ..... Evaluation entrainement ........\n",
    "Ychoix_pred = classifieur.predict(Xchoix_train)\n",
    "randForest_stats.append(accuracy_score(Ychoix_train, Ychoix_pred))\n",
    "randForest_stats.append(f1_score(Ychoix_train, Ychoix_pred, average='micro'))\n",
    "# ................ Test ................\n",
    "temps_debut = timeit.default_timer()\n",
    "Ychoix_pred = classifieur.predict(Xchoix_test)\n",
    "randForest_stats.append(timeit.default_timer() - temps_debut)\n",
    "# ........... Evaluation test ...........\n",
    "randForest_stats.append(accuracy_score(Ychoix_test, Ychoix_pred))\n",
    "randForest_stats.append(f1_score(Ychoix_test, Ychoix_pred, average='micro'))\n",
    "\n",
    "print('Fin')"
   ]
  },
  {
   "cell_type": "markdown",
   "metadata": {},
   "source": [
    "### I.3 Entraîner un modèle de régression logistique\n",
    "Ce modèle supporte la régression logistique multi-classes"
   ]
  },
  {
   "cell_type": "code",
   "execution_count": 167,
   "metadata": {},
   "outputs": [],
   "source": [
    "from sklearn.linear_model import LogisticRegression\n",
    "\n",
    "import warnings\n",
    "from sklearn.exceptions import ConvergenceWarning\n",
    "warnings.filterwarnings('ignore', category=ConvergenceWarning)\n",
    "\n",
    "logistic_reg = LogisticRegression()\n",
    "logistic_stats = []\n",
    "\n",
    "# ================= Entraînement =====================\n",
    "temps_debut = timeit.default_timer()\n",
    "logistic_reg.fit(Xchoix_train, Ychoix_train)\n",
    "logistic_stats.append(timeit.default_timer() - temps_debut)\n",
    "Y_pred = logistic_reg.predict(Xchoix_train)\n",
    "logistic_stats.append(accuracy_score(Ychoix_train, Y_pred))\n",
    "logistic_stats.append(f1_score(Ychoix_train, Y_pred, average='micro'))\n",
    "\n",
    "# ===================== Test ========================\n",
    "temps_debut = timeit.default_timer()\n",
    "# Faire des prédictions sur l'ensemble de test\n",
    "Y_pred = logistic_reg.predict(Xchoix_test)\n",
    "logistic_stats.append(timeit.default_timer() - temps_debut)\n",
    "logistic_stats.append(accuracy_score(Ychoix_test, Y_pred))\n",
    "logistic_stats.append(f1_score(Ychoix_test, Y_pred, average='micro'))"
   ]
  },
  {
   "cell_type": "markdown",
   "metadata": {},
   "source": [
    "### I.4 Entraîner trois modèles de boosting : GradientBoosting, Adaboost et Lightgbm"
   ]
  },
  {
   "cell_type": "code",
   "execution_count": 168,
   "metadata": {},
   "outputs": [
    {
     "name": "stdout",
     "output_type": "stream",
     "text": [
      "[LightGBM] [Info] Number of positive: 286, number of negative: 169\n",
      "[LightGBM] [Info] Auto-choosing col-wise multi-threading, the overhead of testing was 0.000700 seconds.\n",
      "You can set `force_col_wise=true` to remove the overhead.\n",
      "[LightGBM] [Info] Total Bins 4548\n",
      "[LightGBM] [Info] Number of data points in the train set: 455, number of used features: 30\n",
      "[LightGBM] [Info] [binary:BoostFromScore]: pavg=0.628571 -> initscore=0.526093\n",
      "[LightGBM] [Info] Start training from score 0.526093\n",
      "[LightGBM] [Warning] No further splits with positive gain, best gain: -inf\n",
      "[LightGBM] [Warning] No further splits with positive gain, best gain: -inf\n",
      "[LightGBM] [Warning] No further splits with positive gain, best gain: -inf\n",
      "[LightGBM] [Warning] No further splits with positive gain, best gain: -inf\n",
      "[LightGBM] [Warning] No further splits with positive gain, best gain: -inf\n",
      "[LightGBM] [Warning] No further splits with positive gain, best gain: -inf\n",
      "[LightGBM] [Warning] No further splits with positive gain, best gain: -inf\n",
      "[LightGBM] [Warning] No further splits with positive gain, best gain: -inf\n",
      "[LightGBM] [Warning] No further splits with positive gain, best gain: -inf\n",
      "[LightGBM] [Warning] No further splits with positive gain, best gain: -inf\n",
      "[LightGBM] [Warning] No further splits with positive gain, best gain: -inf\n",
      "[LightGBM] [Warning] No further splits with positive gain, best gain: -inf\n",
      "[LightGBM] [Warning] No further splits with positive gain, best gain: -inf\n",
      "[LightGBM] [Warning] No further splits with positive gain, best gain: -inf\n",
      "[LightGBM] [Warning] No further splits with positive gain, best gain: -inf\n",
      "[LightGBM] [Warning] No further splits with positive gain, best gain: -inf\n",
      "[LightGBM] [Warning] No further splits with positive gain, best gain: -inf\n",
      "[LightGBM] [Warning] No further splits with positive gain, best gain: -inf\n",
      "[LightGBM] [Warning] No further splits with positive gain, best gain: -inf\n",
      "[LightGBM] [Warning] No further splits with positive gain, best gain: -inf\n",
      "[LightGBM] [Warning] No further splits with positive gain, best gain: -inf\n",
      "[LightGBM] [Warning] No further splits with positive gain, best gain: -inf\n",
      "[LightGBM] [Warning] No further splits with positive gain, best gain: -inf\n",
      "[LightGBM] [Warning] No further splits with positive gain, best gain: -inf\n",
      "[LightGBM] [Warning] No further splits with positive gain, best gain: -inf\n",
      "[LightGBM] [Warning] No further splits with positive gain, best gain: -inf\n",
      "[LightGBM] [Warning] No further splits with positive gain, best gain: -inf\n",
      "[LightGBM] [Warning] No further splits with positive gain, best gain: -inf\n",
      "[LightGBM] [Warning] No further splits with positive gain, best gain: -inf\n",
      "[LightGBM] [Warning] No further splits with positive gain, best gain: -inf\n",
      "[LightGBM] [Warning] No further splits with positive gain, best gain: -inf\n",
      "[LightGBM] [Warning] No further splits with positive gain, best gain: -inf\n",
      "[LightGBM] [Warning] No further splits with positive gain, best gain: -inf\n",
      "[LightGBM] [Warning] No further splits with positive gain, best gain: -inf\n",
      "[LightGBM] [Warning] No further splits with positive gain, best gain: -inf\n",
      "[LightGBM] [Warning] No further splits with positive gain, best gain: -inf\n",
      "[LightGBM] [Warning] No further splits with positive gain, best gain: -inf\n",
      "[LightGBM] [Warning] No further splits with positive gain, best gain: -inf\n",
      "[LightGBM] [Warning] No further splits with positive gain, best gain: -inf\n",
      "[LightGBM] [Warning] No further splits with positive gain, best gain: -inf\n",
      "[LightGBM] [Warning] No further splits with positive gain, best gain: -inf\n",
      "[LightGBM] [Warning] No further splits with positive gain, best gain: -inf\n",
      "[LightGBM] [Warning] No further splits with positive gain, best gain: -inf\n",
      "[LightGBM] [Warning] No further splits with positive gain, best gain: -inf\n",
      "[LightGBM] [Warning] No further splits with positive gain, best gain: -inf\n",
      "[LightGBM] [Warning] No further splits with positive gain, best gain: -inf\n",
      "[LightGBM] [Warning] No further splits with positive gain, best gain: -inf\n",
      "[LightGBM] [Warning] No further splits with positive gain, best gain: -inf\n",
      "[LightGBM] [Warning] No further splits with positive gain, best gain: -inf\n",
      "[LightGBM] [Warning] No further splits with positive gain, best gain: -inf\n",
      "[LightGBM] [Warning] No further splits with positive gain, best gain: -inf\n",
      "[LightGBM] [Warning] No further splits with positive gain, best gain: -inf\n",
      "[LightGBM] [Warning] No further splits with positive gain, best gain: -inf\n",
      "[LightGBM] [Warning] No further splits with positive gain, best gain: -inf\n",
      "[LightGBM] [Warning] No further splits with positive gain, best gain: -inf\n",
      "[LightGBM] [Warning] No further splits with positive gain, best gain: -inf\n",
      "[LightGBM] [Warning] No further splits with positive gain, best gain: -inf\n",
      "[LightGBM] [Warning] No further splits with positive gain, best gain: -inf\n",
      "[LightGBM] [Warning] No further splits with positive gain, best gain: -inf\n",
      "[LightGBM] [Warning] No further splits with positive gain, best gain: -inf\n",
      "[LightGBM] [Warning] No further splits with positive gain, best gain: -inf\n",
      "[LightGBM] [Warning] No further splits with positive gain, best gain: -inf\n",
      "[LightGBM] [Warning] No further splits with positive gain, best gain: -inf\n",
      "[LightGBM] [Warning] No further splits with positive gain, best gain: -inf\n",
      "[LightGBM] [Warning] No further splits with positive gain, best gain: -inf\n",
      "[LightGBM] [Warning] No further splits with positive gain, best gain: -inf\n",
      "[LightGBM] [Warning] No further splits with positive gain, best gain: -inf\n",
      "[LightGBM] [Warning] No further splits with positive gain, best gain: -inf\n",
      "[LightGBM] [Warning] No further splits with positive gain, best gain: -inf\n",
      "[LightGBM] [Warning] No further splits with positive gain, best gain: -inf\n",
      "[LightGBM] [Warning] No further splits with positive gain, best gain: -inf\n",
      "[LightGBM] [Warning] No further splits with positive gain, best gain: -inf\n",
      "[LightGBM] [Warning] No further splits with positive gain, best gain: -inf\n",
      "[LightGBM] [Warning] No further splits with positive gain, best gain: -inf\n",
      "[LightGBM] [Warning] No further splits with positive gain, best gain: -inf\n",
      "[LightGBM] [Warning] No further splits with positive gain, best gain: -inf\n",
      "[LightGBM] [Warning] No further splits with positive gain, best gain: -inf\n",
      "[LightGBM] [Warning] No further splits with positive gain, best gain: -inf\n",
      "[LightGBM] [Warning] No further splits with positive gain, best gain: -inf\n",
      "[LightGBM] [Warning] No further splits with positive gain, best gain: -inf\n",
      "[LightGBM] [Warning] No further splits with positive gain, best gain: -inf\n",
      "[LightGBM] [Warning] No further splits with positive gain, best gain: -inf\n",
      "[LightGBM] [Warning] No further splits with positive gain, best gain: -inf\n",
      "[LightGBM] [Warning] No further splits with positive gain, best gain: -inf\n",
      "[LightGBM] [Warning] No further splits with positive gain, best gain: -inf\n",
      "[LightGBM] [Warning] No further splits with positive gain, best gain: -inf\n",
      "[LightGBM] [Warning] No further splits with positive gain, best gain: -inf\n",
      "[LightGBM] [Warning] No further splits with positive gain, best gain: -inf\n",
      "[LightGBM] [Warning] No further splits with positive gain, best gain: -inf\n",
      "[LightGBM] [Warning] No further splits with positive gain, best gain: -inf\n",
      "[LightGBM] [Warning] No further splits with positive gain, best gain: -inf\n",
      "[LightGBM] [Warning] No further splits with positive gain, best gain: -inf\n",
      "[LightGBM] [Warning] No further splits with positive gain, best gain: -inf\n",
      "[LightGBM] [Warning] No further splits with positive gain, best gain: -inf\n",
      "[LightGBM] [Warning] No further splits with positive gain, best gain: -inf\n",
      "[LightGBM] [Warning] No further splits with positive gain, best gain: -inf\n",
      "[LightGBM] [Warning] No further splits with positive gain, best gain: -inf\n",
      "[LightGBM] [Warning] No further splits with positive gain, best gain: -inf\n"
     ]
    }
   ],
   "source": [
    "from sklearn.ensemble import GradientBoostingClassifier, AdaBoostClassifier\n",
    "import lightgbm as lgb\n",
    "\n",
    "\n",
    "ADABOOST_stats = []\n",
    "adaboost_clf = AdaBoostClassifier()\n",
    "\n",
    "# ================= Entraînement Adaboost =====================\n",
    "temps_debut = timeit.default_timer()\n",
    "# Entraîner le modèle\n",
    "adaboost_clf.fit(Xchoix_train, Ychoix_train)\n",
    "ADABOOST_stats.append(timeit.default_timer() - temps_debut)\n",
    "Y_pred = adaboost_clf.predict(Xchoix_train)\n",
    "ADABOOST_stats.append(accuracy_score(Ychoix_train, Y_pred))\n",
    "ADABOOST_stats.append(f1_score(Ychoix_train, Y_pred, average='micro'))\n",
    "\n",
    "# ===================== Test Adaboost ========================\n",
    "temps_debut = timeit.default_timer()\n",
    "# Faire des prédictions sur l'ensemble de test\n",
    "Y_pred = adaboost_clf.predict(Xchoix_test)\n",
    "ADABOOST_stats.append(timeit.default_timer() - temps_debut)\n",
    "ADABOOST_stats.append(accuracy_score(Ychoix_test, Y_pred))\n",
    "ADABOOST_stats.append(f1_score(Ychoix_test, Y_pred, average='micro'))\n",
    "\n",
    "\n",
    "# ==========================================================================================\n",
    "\n",
    "grad_stats = []\n",
    "grad_boost_clf = GradientBoostingClassifier()\n",
    "\n",
    "# ================= Entraînement Gradient Boosting =====================\n",
    "temps_debut = timeit.default_timer()\n",
    "# Entraîner le modèle\n",
    "grad_boost_clf.fit(Xchoix_train, Ychoix_train)\n",
    "grad_stats.append(timeit.default_timer() - temps_debut)\n",
    "Y_pred = grad_boost_clf.predict(Xchoix_train)\n",
    "grad_stats.append(accuracy_score(Ychoix_train, Y_pred))\n",
    "grad_stats.append(f1_score(Ychoix_train, Y_pred, average='micro'))\n",
    "\n",
    "# ===================== Test Gradient Boosting ========================\n",
    "temps_debut = timeit.default_timer()\n",
    "# Faire des prédictions sur l'ensemble de test\n",
    "Y_pred = grad_boost_clf.predict(Xchoix_test)\n",
    "grad_stats.append(timeit.default_timer() - temps_debut)\n",
    "grad_stats.append(accuracy_score(Ychoix_test, Y_pred))\n",
    "grad_stats.append(f1_score(Ychoix_test, Y_pred, average='micro'))\n",
    "\n",
    "\n",
    "# ==========================================================================================\n",
    "\n",
    "LGBM_stats = []\n",
    "lgb_clf = lgb.LGBMClassifier()\n",
    "\n",
    "# ================= Entraînement LGBM =====================\n",
    "temps_debut = timeit.default_timer()\n",
    "# Entraîner le modèle\n",
    "lgb_clf.fit(Xchoix_train, Ychoix_train)\n",
    "LGBM_stats.append(timeit.default_timer() - temps_debut)\n",
    "Y_pred = lgb_clf.predict(Xchoix_train)\n",
    "LGBM_stats.append(accuracy_score(Ychoix_train, Y_pred))\n",
    "LGBM_stats.append(f1_score(Ychoix_train, Y_pred, average='micro'))\n",
    "\n",
    "# ===================== Test LGBM ========================\n",
    "temps_debut = timeit.default_timer()\n",
    "# Faire des prédictions sur l'ensemble de test\n",
    "Y_pred = lgb_clf.predict(Xchoix_test)\n",
    "LGBM_stats.append(timeit.default_timer() - temps_debut)\n",
    "LGBM_stats.append(accuracy_score(Ychoix_test, Y_pred))\n",
    "LGBM_stats.append(f1_score(Ychoix_test, Y_pred, average='micro'))"
   ]
  },
  {
   "cell_type": "markdown",
   "metadata": {},
   "source": [
    "### I.5 Entraîner un modèle XGBOOST"
   ]
  },
  {
   "cell_type": "code",
   "execution_count": 169,
   "metadata": {},
   "outputs": [],
   "source": [
    "import xgboost as xgb\n",
    "\n",
    "# Définir les paramètres du modèle\n",
    "# params = {\n",
    "#     'objective': 'multi:softmax',  # Fonction objective pour la classification multi-classe\n",
    "#     'num_class': 7,  # Nombre de classes dans le jeu de données \n",
    "#     'max_depth': 4  # Profondeur maximale de l'arbre\n",
    "# }\n",
    "# params = {\n",
    "#     'objective': 'binary:logistic',  # Fonction objective pour la classification binaire\n",
    "#     'num_class': 2, \n",
    "#     'max_depth': 3\n",
    "# }\n",
    "XGBOOST_stats = []\n",
    "\n",
    "# Créer le modèle de classification (avec les paramètres par défaut)\n",
    "clf = xgb.XGBClassifier()\n",
    "\n",
    "\n",
    "# ================= Entraînement =====================\n",
    "temps_debut = timeit.default_timer()\n",
    "# Entraîner le modèle\n",
    "clf.fit(Xchoix_train, Ychoix_train)\n",
    "XGBOOST_stats.append(timeit.default_timer() - temps_debut)\n",
    "Y_pred = clf.predict(Xchoix_train)\n",
    "XGBOOST_stats.append(accuracy_score(Ychoix_train, Y_pred))\n",
    "XGBOOST_stats.append(f1_score(Ychoix_train, Y_pred, average='micro'))\n",
    "\n",
    "# ===================== Test ========================\n",
    "temps_debut = timeit.default_timer()\n",
    "# Faire des prédictions sur l'ensemble de test\n",
    "Y_pred = clf.predict(Xchoix_test)\n",
    "XGBOOST_stats.append(timeit.default_timer() - temps_debut)\n",
    "XGBOOST_stats.append(accuracy_score(Ychoix_test, Y_pred))\n",
    "XGBOOST_stats.append(f1_score(Ychoix_test, Y_pred, average='micro'))"
   ]
  },
  {
   "cell_type": "code",
   "execution_count": 170,
   "metadata": {},
   "outputs": [
    {
     "data": {
      "text/html": [
       "<div>\n",
       "<style scoped>\n",
       "    .dataframe tbody tr th:only-of-type {\n",
       "        vertical-align: middle;\n",
       "    }\n",
       "\n",
       "    .dataframe tbody tr th {\n",
       "        vertical-align: top;\n",
       "    }\n",
       "\n",
       "    .dataframe thead th {\n",
       "        text-align: right;\n",
       "    }\n",
       "</style>\n",
       "<table border=\"1\" class=\"dataframe\">\n",
       "  <thead>\n",
       "    <tr style=\"text-align: right;\">\n",
       "      <th></th>\n",
       "      <th>Criteres</th>\n",
       "      <th>Entropie</th>\n",
       "      <th>Gini</th>\n",
       "      <th>Régression logistique</th>\n",
       "      <th>Random Forest</th>\n",
       "      <th>Gradient Boosting</th>\n",
       "      <th>Adaboost</th>\n",
       "      <th>XGBOOST</th>\n",
       "    </tr>\n",
       "  </thead>\n",
       "  <tbody>\n",
       "    <tr>\n",
       "      <th>0</th>\n",
       "      <td>Temps Entrainement</td>\n",
       "      <td>0.024254</td>\n",
       "      <td>0.033134</td>\n",
       "      <td>0.153103</td>\n",
       "      <td>0.550847</td>\n",
       "      <td>2.238101</td>\n",
       "      <td>0.499412</td>\n",
       "      <td>0.127456</td>\n",
       "    </tr>\n",
       "    <tr>\n",
       "      <th>1</th>\n",
       "      <td>Accuracy Entrainement</td>\n",
       "      <td>1.000000</td>\n",
       "      <td>1.000000</td>\n",
       "      <td>0.953846</td>\n",
       "      <td>1.000000</td>\n",
       "      <td>1.000000</td>\n",
       "      <td>1.000000</td>\n",
       "      <td>1.000000</td>\n",
       "    </tr>\n",
       "    <tr>\n",
       "      <th>2</th>\n",
       "      <td>F1 Entrainement</td>\n",
       "      <td>1.000000</td>\n",
       "      <td>1.000000</td>\n",
       "      <td>0.953846</td>\n",
       "      <td>1.000000</td>\n",
       "      <td>1.000000</td>\n",
       "      <td>1.000000</td>\n",
       "      <td>1.000000</td>\n",
       "    </tr>\n",
       "    <tr>\n",
       "      <th>3</th>\n",
       "      <td>Temps Test</td>\n",
       "      <td>0.000582</td>\n",
       "      <td>0.000533</td>\n",
       "      <td>0.000620</td>\n",
       "      <td>0.005979</td>\n",
       "      <td>0.000859</td>\n",
       "      <td>0.010096</td>\n",
       "      <td>0.001716</td>\n",
       "    </tr>\n",
       "    <tr>\n",
       "      <th>4</th>\n",
       "      <td>Accuracy Test</td>\n",
       "      <td>0.947368</td>\n",
       "      <td>0.947368</td>\n",
       "      <td>0.956140</td>\n",
       "      <td>0.964912</td>\n",
       "      <td>0.956140</td>\n",
       "      <td>0.973684</td>\n",
       "      <td>0.956140</td>\n",
       "    </tr>\n",
       "    <tr>\n",
       "      <th>5</th>\n",
       "      <td>F1 Test</td>\n",
       "      <td>0.947368</td>\n",
       "      <td>0.947368</td>\n",
       "      <td>0.956140</td>\n",
       "      <td>0.964912</td>\n",
       "      <td>0.956140</td>\n",
       "      <td>0.973684</td>\n",
       "      <td>0.956140</td>\n",
       "    </tr>\n",
       "  </tbody>\n",
       "</table>\n",
       "</div>"
      ],
      "text/plain": [
       "                Criteres  Entropie      Gini  Régression logistique  \\\n",
       "0     Temps Entrainement  0.024254  0.033134               0.153103   \n",
       "1  Accuracy Entrainement  1.000000  1.000000               0.953846   \n",
       "2        F1 Entrainement  1.000000  1.000000               0.953846   \n",
       "3             Temps Test  0.000582  0.000533               0.000620   \n",
       "4          Accuracy Test  0.947368  0.947368               0.956140   \n",
       "5                F1 Test  0.947368  0.947368               0.956140   \n",
       "\n",
       "   Random Forest  Gradient Boosting  Adaboost   XGBOOST  \n",
       "0       0.550847           2.238101  0.499412  0.127456  \n",
       "1       1.000000           1.000000  1.000000  1.000000  \n",
       "2       1.000000           1.000000  1.000000  1.000000  \n",
       "3       0.005979           0.000859  0.010096  0.001716  \n",
       "4       0.964912           0.956140  0.973684  0.956140  \n",
       "5       0.964912           0.956140  0.973684  0.956140  "
      ]
     },
     "execution_count": 170,
     "metadata": {},
     "output_type": "execute_result"
    }
   ],
   "source": [
    "pd.DataFrame({\n",
    "    'Criteres' : ['Temps Entrainement', 'Accuracy Entrainement', 'F1 Entrainement', 'Temps Test', 'Accuracy Test', 'F1 Test'],\n",
    "    'Entropie' : entropy_stats,\n",
    "    'Gini'     : gini_stats,\n",
    "    'Régression logistique': logistic_stats,\n",
    "    'Random Forest' : randForest_stats,\n",
    "    'Gradient Boosting': grad_stats,\n",
    "    'Adaboost' : ADABOOST_stats,\n",
    "    'XGBOOST'  : XGBOOST_stats,\n",
    "})"
   ]
  },
  {
   "cell_type": "markdown",
   "metadata": {},
   "source": [
    "### I.6 Conclusion\n",
    "Nous remarquons que les performances de XGBOOST par rapport au reste des algorithmes sont très intéressantes car il jumle entre une très bonne rapidité et taux d'accuracy ou F1-score. En effet, il est de loin plus rapide que les deux algorithmes de boosting ainsi que l'algorithme de Bootstrap, les restants sont plus ou moins rapides mais sont moins performants selon les métriques utilisées."
   ]
  },
  {
   "cell_type": "markdown",
   "metadata": {},
   "source": [
    "# **II. Régression**\n",
    "\n",
    "Dans cette seconde partie, nous allons entraîner un modèle de XGBOOST pour la régression et le comparer avec le modèle de régression linéaire, Gradient Boosting et Adaboost en utilisant une dataset de Sklearn comportant les prix des maisons de California."
   ]
  },
  {
   "cell_type": "markdown",
   "metadata": {},
   "source": [
    "### II.1 Importer la dataset"
   ]
  },
  {
   "cell_type": "code",
   "execution_count": 119,
   "metadata": {},
   "outputs": [
    {
     "data": {
      "text/plain": [
       "((16512, 8), (4128, 8))"
      ]
     },
     "execution_count": 119,
     "metadata": {},
     "output_type": "execute_result"
    }
   ],
   "source": [
    "from sklearn.datasets import fetch_california_housing\n",
    "\n",
    "houses = fetch_california_housing()\n",
    "X, Y = houses.data, houses.target\n",
    "\n",
    "X_train, X_test, Y_train, Y_test = train_test_split(X, Y, test_size=0.2, random_state=42)\n",
    "\n",
    "X_train.shape, X_test.shape"
   ]
  },
  {
   "cell_type": "markdown",
   "metadata": {},
   "source": [
    "### II.2 Entraîner un modèle de régression linéaire"
   ]
  },
  {
   "cell_type": "code",
   "execution_count": 120,
   "metadata": {},
   "outputs": [
    {
     "name": "stdout",
     "output_type": "stream",
     "text": [
      "MSE: 0.5558915986952462\n"
     ]
    }
   ],
   "source": [
    "from sklearn.linear_model import LinearRegression\n",
    "from sklearn.preprocessing import StandardScaler\n",
    "from sklearn.pipeline      import make_pipeline\n",
    "from sklearn.metrics import mean_squared_error\n",
    "\n",
    "lineaire_stats = []\n",
    "\n",
    "reg_lineaire = make_pipeline(StandardScaler(with_mean=False), LinearRegression())\n",
    "\n",
    "temps_debut = timeit.default_timer()\n",
    "# Entraîner le modèle de régression linéaire\n",
    "reg_lineaire.fit(X_train, Y_train)\n",
    "lineaire_stats.append(timeit.default_timer() - temps_debut)\n",
    "\n",
    "temps_debut = timeit.default_timer()\n",
    "# Prédire\n",
    "Y_pred_lineaire = reg_lineaire.predict(X_test)\n",
    "lineaire_stats.append(timeit.default_timer() - temps_debut)\n",
    "\n",
    "# Calculer l'erreur quadratique moyenne (MSE)\n",
    "mse_lineaire = mean_squared_error(Y_test, Y_pred_lineaire)\n",
    "lineaire_stats.append(mse_lineaire)\n",
    "print(f\"MSE: {mse_lineaire}\")"
   ]
  },
  {
   "cell_type": "markdown",
   "metadata": {},
   "source": [
    "### II.3 Entraîner un modèle Adaboost et un autre Gradient Boosting"
   ]
  },
  {
   "cell_type": "code",
   "execution_count": 121,
   "metadata": {},
   "outputs": [
    {
     "name": "stdout",
     "output_type": "stream",
     "text": [
      "MSE: 0.8723019294589596\n",
      "MSE: 0.29399732486438634\n"
     ]
    }
   ],
   "source": [
    "from sklearn.ensemble import AdaBoostRegressor, GradientBoostingRegressor\n",
    "\n",
    "ADABOOST_stats = []\n",
    "adaboost_reg = AdaBoostRegressor()\n",
    "\n",
    "temps_debut = timeit.default_timer()\n",
    "# Entraîner le modèle\n",
    "adaboost_reg.fit(X_train, Y_train)\n",
    "ADABOOST_stats.append(timeit.default_timer() - temps_debut)\n",
    "\n",
    "temps_debut = timeit.default_timer()\n",
    "# Faire des prédictions sur l'ensemble de test\n",
    "Y_pred = adaboost_reg.predict(X_test)\n",
    "ADABOOST_stats.append(timeit.default_timer() - temps_debut)\n",
    "\n",
    "# Calculer l'erreur quadratique moyenne (MSE)\n",
    "mse_adaboost = mean_squared_error(Y_test, Y_pred)\n",
    "ADABOOST_stats.append(mse_adaboost)\n",
    "print(f\"MSE: {mse_adaboost}\")\n",
    "\n",
    "\n",
    "# ==========================================================================================\n",
    "\n",
    "grad_stats = []\n",
    "grad_boost_reg = GradientBoostingRegressor()\n",
    "\n",
    "temps_debut = timeit.default_timer()\n",
    "# Entraîner le modèle\n",
    "grad_boost_reg.fit(X_train, Y_train)\n",
    "grad_stats.append(timeit.default_timer() - temps_debut)\n",
    "\n",
    "temps_debut = timeit.default_timer()\n",
    "# Faire des prédictions sur l'ensemble de test\n",
    "Y_pred = grad_boost_reg.predict(X_test)\n",
    "grad_stats.append(timeit.default_timer() - temps_debut)\n",
    "\n",
    "# Calculer l'erreur quadratique moyenne (MSE)\n",
    "mse_grad = mean_squared_error(Y_test, Y_pred)\n",
    "grad_stats.append(mse_grad)\n",
    "print(f\"MSE: {mse_grad}\")"
   ]
  },
  {
   "cell_type": "markdown",
   "metadata": {},
   "source": [
    "### II.4 Entraîner un modèle XGBOOST"
   ]
  },
  {
   "cell_type": "code",
   "execution_count": 122,
   "metadata": {},
   "outputs": [
    {
     "name": "stdout",
     "output_type": "stream",
     "text": [
      "MSE: 0.2509968715591795\n"
     ]
    }
   ],
   "source": [
    "# Définir les paramètres du modèle\n",
    "params = {\n",
    "    'objective': 'reg:squarederror',  # Fonction objective pour la régression\n",
    "    'max_depth': 3  # Profondeur maximale de l'arbre\n",
    "}\n",
    "\n",
    "XGBOOST_stats = []\n",
    "\n",
    "# Créer le modèle de régression XGBOOST avec les paramètres, changer la profondeur change le MSE, plus profond mieux c'est mais prend plus de temps\n",
    "reg_XGBOOST = xgb.XGBRegressor(**params)\n",
    "\n",
    "temps_debut = timeit.default_timer()\n",
    "# Entraîner le modèle\n",
    "reg_XGBOOST.fit(X_train, Y_train)\n",
    "XGBOOST_stats.append(timeit.default_timer() - temps_debut)\n",
    "\n",
    "temps_debut = timeit.default_timer()\n",
    "# Faire des prédictions sur l'ensemble de test\n",
    "Y_pred_XGBOOST = reg_XGBOOST.predict(X_test)\n",
    "XGBOOST_stats.append(timeit.default_timer() - temps_debut)\n",
    "\n",
    "# Calculer l'erreur quadratique moyenne (MSE)\n",
    "mse_XGBOOST = mean_squared_error(Y_test, Y_pred_XGBOOST)\n",
    "XGBOOST_stats.append(mse_XGBOOST)\n",
    "print(f\"MSE: {mse_XGBOOST}\")\n"
   ]
  },
  {
   "cell_type": "code",
   "execution_count": 123,
   "metadata": {},
   "outputs": [
    {
     "data": {
      "text/html": [
       "<div>\n",
       "<style scoped>\n",
       "    .dataframe tbody tr th:only-of-type {\n",
       "        vertical-align: middle;\n",
       "    }\n",
       "\n",
       "    .dataframe tbody tr th {\n",
       "        vertical-align: top;\n",
       "    }\n",
       "\n",
       "    .dataframe thead th {\n",
       "        text-align: right;\n",
       "    }\n",
       "</style>\n",
       "<table border=\"1\" class=\"dataframe\">\n",
       "  <thead>\n",
       "    <tr style=\"text-align: right;\">\n",
       "      <th></th>\n",
       "      <th>Criteres</th>\n",
       "      <th>Linéaire</th>\n",
       "      <th>Gradient Boosting</th>\n",
       "      <th>Adaboost</th>\n",
       "      <th>XGBOOST</th>\n",
       "    </tr>\n",
       "  </thead>\n",
       "  <tbody>\n",
       "    <tr>\n",
       "      <th>0</th>\n",
       "      <td>Temps Entrainement</td>\n",
       "      <td>0.017756</td>\n",
       "      <td>12.180016</td>\n",
       "      <td>2.927409</td>\n",
       "      <td>0.149950</td>\n",
       "    </tr>\n",
       "    <tr>\n",
       "      <th>1</th>\n",
       "      <td>Temps Test</td>\n",
       "      <td>0.001505</td>\n",
       "      <td>0.007961</td>\n",
       "      <td>0.028228</td>\n",
       "      <td>0.002287</td>\n",
       "    </tr>\n",
       "    <tr>\n",
       "      <th>2</th>\n",
       "      <td>MSE</td>\n",
       "      <td>0.555892</td>\n",
       "      <td>0.293997</td>\n",
       "      <td>0.872302</td>\n",
       "      <td>0.250997</td>\n",
       "    </tr>\n",
       "  </tbody>\n",
       "</table>\n",
       "</div>"
      ],
      "text/plain": [
       "             Criteres  Linéaire  Gradient Boosting  Adaboost   XGBOOST\n",
       "0  Temps Entrainement  0.017756          12.180016  2.927409  0.149950\n",
       "1          Temps Test  0.001505           0.007961  0.028228  0.002287\n",
       "2                 MSE  0.555892           0.293997  0.872302  0.250997"
      ]
     },
     "execution_count": 123,
     "metadata": {},
     "output_type": "execute_result"
    }
   ],
   "source": [
    "pd.DataFrame({\n",
    "    'Criteres' : ['Temps Entrainement','Temps Test', 'MSE'],\n",
    "    'Linéaire' : lineaire_stats,\n",
    "    'Gradient Boosting': grad_stats,\n",
    "    'Adaboost': ADABOOST_stats,\n",
    "    'XGBOOST'  : XGBOOST_stats,\n",
    "})"
   ]
  },
  {
   "cell_type": "markdown",
   "metadata": {},
   "source": [
    "### II.5 Conclusion\n",
    "Nous remarquons que XGBOOST est non seulement très rapide par rapport aux deux autres algorithmes de boosting, mais aussi bien plus précis avec une MSE bien inférieure avec quoi il compense sa lenteur par rapport à la régression linéaire"
   ]
  },
  {
   "cell_type": "markdown",
   "metadata": {
    "colab_type": "text",
    "id": "D85B-1HXegs5"
   },
   "source": [
    "# **III. Exploration des Hyperparamètres**\n",
    "\n",
    "Dans cette section, nous examinerons plusieurs Hyperparamètres importants et comprendrons leurs fonctions"
   ]
  },
  {
   "cell_type": "code",
   "execution_count": 124,
   "metadata": {},
   "outputs": [
    {
     "data": {
      "text/html": [
       "<div>\n",
       "<style scoped>\n",
       "    .dataframe tbody tr th:only-of-type {\n",
       "        vertical-align: middle;\n",
       "    }\n",
       "\n",
       "    .dataframe tbody tr th {\n",
       "        vertical-align: top;\n",
       "    }\n",
       "\n",
       "    .dataframe thead th {\n",
       "        text-align: right;\n",
       "    }\n",
       "</style>\n",
       "<table border=\"1\" class=\"dataframe\">\n",
       "  <thead>\n",
       "    <tr style=\"text-align: right;\">\n",
       "      <th></th>\n",
       "      <th>is_canceled</th>\n",
       "      <th>lead_time</th>\n",
       "      <th>arrival_date_week_number</th>\n",
       "      <th>arrival_date_day_of_month</th>\n",
       "      <th>arrival_date_month</th>\n",
       "      <th>stays_in_weekend_nights</th>\n",
       "      <th>stays_in_week_nights</th>\n",
       "      <th>adults</th>\n",
       "      <th>children</th>\n",
       "      <th>babies</th>\n",
       "      <th>...</th>\n",
       "      <th>reserved_room_type_G</th>\n",
       "      <th>reserved_room_type_H</th>\n",
       "      <th>reserved_room_type_L</th>\n",
       "      <th>deposit_type_No_Deposit</th>\n",
       "      <th>deposit_type_Non_Refund</th>\n",
       "      <th>deposit_type_Refundable</th>\n",
       "      <th>customer_type_Contract</th>\n",
       "      <th>customer_type_Group</th>\n",
       "      <th>customer_type_Transient</th>\n",
       "      <th>customer_type_Transient-Party</th>\n",
       "    </tr>\n",
       "  </thead>\n",
       "  <tbody>\n",
       "    <tr>\n",
       "      <th>0</th>\n",
       "      <td>0</td>\n",
       "      <td>342</td>\n",
       "      <td>27</td>\n",
       "      <td>1</td>\n",
       "      <td>7</td>\n",
       "      <td>0</td>\n",
       "      <td>0</td>\n",
       "      <td>2</td>\n",
       "      <td>0.0</td>\n",
       "      <td>0</td>\n",
       "      <td>...</td>\n",
       "      <td>0</td>\n",
       "      <td>0</td>\n",
       "      <td>0</td>\n",
       "      <td>1</td>\n",
       "      <td>0</td>\n",
       "      <td>0</td>\n",
       "      <td>0</td>\n",
       "      <td>0</td>\n",
       "      <td>1</td>\n",
       "      <td>0</td>\n",
       "    </tr>\n",
       "    <tr>\n",
       "      <th>1</th>\n",
       "      <td>0</td>\n",
       "      <td>737</td>\n",
       "      <td>27</td>\n",
       "      <td>1</td>\n",
       "      <td>7</td>\n",
       "      <td>0</td>\n",
       "      <td>0</td>\n",
       "      <td>2</td>\n",
       "      <td>0.0</td>\n",
       "      <td>0</td>\n",
       "      <td>...</td>\n",
       "      <td>0</td>\n",
       "      <td>0</td>\n",
       "      <td>0</td>\n",
       "      <td>1</td>\n",
       "      <td>0</td>\n",
       "      <td>0</td>\n",
       "      <td>0</td>\n",
       "      <td>0</td>\n",
       "      <td>1</td>\n",
       "      <td>0</td>\n",
       "    </tr>\n",
       "    <tr>\n",
       "      <th>2</th>\n",
       "      <td>0</td>\n",
       "      <td>7</td>\n",
       "      <td>27</td>\n",
       "      <td>1</td>\n",
       "      <td>7</td>\n",
       "      <td>0</td>\n",
       "      <td>1</td>\n",
       "      <td>1</td>\n",
       "      <td>0.0</td>\n",
       "      <td>0</td>\n",
       "      <td>...</td>\n",
       "      <td>0</td>\n",
       "      <td>0</td>\n",
       "      <td>0</td>\n",
       "      <td>1</td>\n",
       "      <td>0</td>\n",
       "      <td>0</td>\n",
       "      <td>0</td>\n",
       "      <td>0</td>\n",
       "      <td>1</td>\n",
       "      <td>0</td>\n",
       "    </tr>\n",
       "    <tr>\n",
       "      <th>3</th>\n",
       "      <td>0</td>\n",
       "      <td>13</td>\n",
       "      <td>27</td>\n",
       "      <td>1</td>\n",
       "      <td>7</td>\n",
       "      <td>0</td>\n",
       "      <td>1</td>\n",
       "      <td>1</td>\n",
       "      <td>0.0</td>\n",
       "      <td>0</td>\n",
       "      <td>...</td>\n",
       "      <td>0</td>\n",
       "      <td>0</td>\n",
       "      <td>0</td>\n",
       "      <td>1</td>\n",
       "      <td>0</td>\n",
       "      <td>0</td>\n",
       "      <td>0</td>\n",
       "      <td>0</td>\n",
       "      <td>1</td>\n",
       "      <td>0</td>\n",
       "    </tr>\n",
       "    <tr>\n",
       "      <th>4</th>\n",
       "      <td>0</td>\n",
       "      <td>14</td>\n",
       "      <td>27</td>\n",
       "      <td>1</td>\n",
       "      <td>7</td>\n",
       "      <td>0</td>\n",
       "      <td>2</td>\n",
       "      <td>2</td>\n",
       "      <td>0.0</td>\n",
       "      <td>0</td>\n",
       "      <td>...</td>\n",
       "      <td>0</td>\n",
       "      <td>0</td>\n",
       "      <td>0</td>\n",
       "      <td>1</td>\n",
       "      <td>0</td>\n",
       "      <td>0</td>\n",
       "      <td>0</td>\n",
       "      <td>0</td>\n",
       "      <td>1</td>\n",
       "      <td>0</td>\n",
       "    </tr>\n",
       "  </tbody>\n",
       "</table>\n",
       "<p>5 rows × 53 columns</p>\n",
       "</div>"
      ],
      "text/plain": [
       "   is_canceled  lead_time  arrival_date_week_number  \\\n",
       "0            0        342                        27   \n",
       "1            0        737                        27   \n",
       "2            0          7                        27   \n",
       "3            0         13                        27   \n",
       "4            0         14                        27   \n",
       "\n",
       "   arrival_date_day_of_month  arrival_date_month  stays_in_weekend_nights  \\\n",
       "0                          1                   7                        0   \n",
       "1                          1                   7                        0   \n",
       "2                          1                   7                        0   \n",
       "3                          1                   7                        0   \n",
       "4                          1                   7                        0   \n",
       "\n",
       "   stays_in_week_nights  adults  children  babies  ...  reserved_room_type_G  \\\n",
       "0                     0       2       0.0       0  ...                     0   \n",
       "1                     0       2       0.0       0  ...                     0   \n",
       "2                     1       1       0.0       0  ...                     0   \n",
       "3                     1       1       0.0       0  ...                     0   \n",
       "4                     2       2       0.0       0  ...                     0   \n",
       "\n",
       "   reserved_room_type_H  reserved_room_type_L  deposit_type_No_Deposit  \\\n",
       "0                     0                     0                        1   \n",
       "1                     0                     0                        1   \n",
       "2                     0                     0                        1   \n",
       "3                     0                     0                        1   \n",
       "4                     0                     0                        1   \n",
       "\n",
       "   deposit_type_Non_Refund  deposit_type_Refundable  customer_type_Contract  \\\n",
       "0                        0                        0                       0   \n",
       "1                        0                        0                       0   \n",
       "2                        0                        0                       0   \n",
       "3                        0                        0                       0   \n",
       "4                        0                        0                       0   \n",
       "\n",
       "   customer_type_Group  customer_type_Transient  customer_type_Transient-Party  \n",
       "0                    0                        1                              0  \n",
       "1                    0                        1                              0  \n",
       "2                    0                        1                              0  \n",
       "3                    0                        1                              0  \n",
       "4                    0                        1                              0  \n",
       "\n",
       "[5 rows x 53 columns]"
      ]
     },
     "execution_count": 124,
     "metadata": {},
     "output_type": "execute_result"
    }
   ],
   "source": [
    "bookings = pd.read_csv('data/hotel_bookings.csv')\n",
    "bookings.head()"
   ]
  },
  {
   "cell_type": "code",
   "execution_count": 125,
   "metadata": {},
   "outputs": [],
   "source": [
    "# Define X and y\n",
    "X, y = bookings.iloc[:,1:], bookings.iloc[:,0]"
   ]
  },
  {
   "cell_type": "code",
   "execution_count": 126,
   "metadata": {},
   "outputs": [
    {
     "data": {
      "text/plain": [
       "{'objective': 'binary:logistic',\n",
       " 'base_score': None,\n",
       " 'booster': None,\n",
       " 'callbacks': None,\n",
       " 'colsample_bylevel': None,\n",
       " 'colsample_bynode': None,\n",
       " 'colsample_bytree': None,\n",
       " 'device': None,\n",
       " 'early_stopping_rounds': None,\n",
       " 'enable_categorical': False,\n",
       " 'eval_metric': None,\n",
       " 'feature_types': None,\n",
       " 'gamma': None,\n",
       " 'grow_policy': None,\n",
       " 'importance_type': None,\n",
       " 'interaction_constraints': None,\n",
       " 'learning_rate': None,\n",
       " 'max_bin': None,\n",
       " 'max_cat_threshold': None,\n",
       " 'max_cat_to_onehot': None,\n",
       " 'max_delta_step': None,\n",
       " 'max_depth': None,\n",
       " 'max_leaves': None,\n",
       " 'min_child_weight': None,\n",
       " 'missing': nan,\n",
       " 'monotone_constraints': None,\n",
       " 'multi_strategy': None,\n",
       " 'n_estimators': None,\n",
       " 'n_jobs': None,\n",
       " 'num_parallel_tree': None,\n",
       " 'random_state': 123,\n",
       " 'reg_alpha': None,\n",
       " 'reg_lambda': None,\n",
       " 'sampling_method': None,\n",
       " 'scale_pos_weight': None,\n",
       " 'subsample': None,\n",
       " 'tree_method': None,\n",
       " 'validate_parameters': None,\n",
       " 'verbosity': None}"
      ]
     },
     "execution_count": 126,
     "metadata": {},
     "output_type": "execute_result"
    }
   ],
   "source": [
    "# Train and test split using sklearn\n",
    "X_train, X_test, y_train, y_test= train_test_split(X, y, test_size=.33, random_state=123)\n",
    "\n",
    "# Instatiate a XGBClassifier \n",
    "xgb_clf = xgb.XGBClassifier(random_state=123)\n",
    "\n",
    "# Inspect the parameters\n",
    "xgb_clf.get_params()"
   ]
  },
  {
   "cell_type": "code",
   "execution_count": 127,
   "metadata": {},
   "outputs": [],
   "source": [
    "# Fit it to the training set\n",
    "xgb_clf.fit(X_train, y_train)\n",
    "\n",
    "# Predict the labels of the test set\n",
    "preds = xgb_clf.predict(X_test)"
   ]
  },
  {
   "cell_type": "code",
   "execution_count": 128,
   "metadata": {},
   "outputs": [
    {
     "name": "stdout",
     "output_type": "stream",
     "text": [
      "Baseline accuracy: 0.8382308083375699\n"
     ]
    }
   ],
   "source": [
    "# Calculate the accuracy\n",
    "accuracy = float(np.sum(preds==y_test))/y_test.shape[0]\n",
    "\n",
    "# Print the baseline accuracy\n",
    "print(\"Baseline accuracy:\", accuracy)"
   ]
  },
  {
   "cell_type": "code",
   "execution_count": 129,
   "metadata": {},
   "outputs": [],
   "source": [
    "from sklearn.metrics import accuracy_score\n",
    "\n",
    "# Instantiate the XGBClassifier with 25 boosting rounds\n",
    "xgb_clf = xgb.XGBClassifier(n_estimators=25, random_state=123)"
   ]
  },
  {
   "cell_type": "markdown",
   "metadata": {
    "colab_type": "text",
    "id": "yxd2UvBaegs-"
   },
   "source": [
    "### **Max depth**\n",
    "\n",
    "_Depuis la documentation de XGBoost :_\n",
    "> Profondeur maximale d'un arbre. Augmenter cette valeur rendra le modèle plus complexe et plus susceptible de surajuster.\n",
    "\n",
    "<p align=\"center\">\n",
    "<img src=\"https://github.com/datacamp/Machine-Learning-With-XGboost-live-training/blob/master/assets/max_depth.png?raw=true\" width = \"35%\"> \n",
    "</p>\n",
    "\n",
    "Voyons ce qui se passe lorsque nous augmentons la valeur de `max_depth` de 6 à 20.\n"
   ]
  },
  {
   "cell_type": "code",
   "execution_count": 130,
   "metadata": {},
   "outputs": [
    {
     "data": {
      "text/plain": [
       "0.853329944077275"
      ]
     },
     "execution_count": 130,
     "metadata": {},
     "output_type": "execute_result"
    }
   ],
   "source": [
    "# Set max_depth to 10\n",
    "xgb_clf.set_params(max_depth=20)\n",
    "\n",
    "# Fit the classifier to the training set\n",
    "xgb_clf.fit(X_train, y_train)\n",
    "\n",
    "# Predict the labels of the test set\n",
    "preds = xgb_clf.predict(X_test)\n",
    "\n",
    "# Compute the accuracy\n",
    "accuracy_score(y_test, preds)"
   ]
  },
  {
   "cell_type": "markdown",
   "metadata": {
    "colab_type": "text",
    "id": "h3ug_cyUegtB"
   },
   "source": [
    "### **colsample_bytree**\n",
    "\n",
    "_Depuis la documentation de XGBoost :_\n",
    "\n",
    "> Le taux de sous-échantillonnage des colonnes lors de la construction de chaque arbre. Le sous-échantillonnage se produit une fois pour chaque arbre construit.\n",
    "\n",
    "Essentiellement, cela nous permet de limiter le nombre de colonnes utilisées lors de la construction de chaque arbre. Cela ajoute de l'aléatoire, rendant le modèle plus robuste au bruit. La valeur par défaut est 1 (c'est-à-dire toutes les colonnes), essayons une valeur plus petite.\n",
    "\n",
    "<p align=\"center\">\n",
    "<img src=\"https://github.com/datacamp/Machine-Learning-With-XGboost-live-training/blob/master/assets/colsample_bytree.gif?raw=true\" width = \"55%\"> \n",
    "</p>"
   ]
  },
  {
   "cell_type": "code",
   "execution_count": 131,
   "metadata": {},
   "outputs": [
    {
     "data": {
      "text/plain": [
       "0.8552872394509405"
      ]
     },
     "execution_count": 131,
     "metadata": {},
     "output_type": "execute_result"
    }
   ],
   "source": [
    "# Set colsample_bytree to 0.5 \n",
    "xgb_clf.set_params(colsample_bytree=0.5)\n",
    "\n",
    "# Fit the classifier to the training set\n",
    "xgb_clf.fit(X_train, y_train)\n",
    "\n",
    "# Predict the labels of the test set\n",
    "preds = xgb_clf.predict(X_test)\n",
    "\n",
    "# Compute the accuracy\n",
    "accuracy_score(y_test, preds)"
   ]
  },
  {
   "cell_type": "markdown",
   "metadata": {
    "colab_type": "text",
    "id": "dffKcMocegtE"
   },
   "source": [
    "Nous pouvons également limiter le nombre de colonnes utilisées à chaque niveau de profondeur ou nœud de notre arbre.\n",
    "\n",
    "_Selon la documentation de XGBoost :_\n",
    "\n",
    "> `colsample_bylevel` est le taux de sous-échantillonnage des colonnes pour chaque niveau. Le sous-échantillonnage se produit une fois pour chaque nouveau niveau de profondeur atteint dans un arbre. Les colonnes sont sous-échantillonnées à partir de l'ensemble des colonnes choisies pour l'arbre en cours.\n",
    "\n",
    "> `colsample_bynode` est le taux de sous-échantillonnage des colonnes pour chaque nœud (division). Le sous-échantillonnage se produit chaque fois qu'une nouvelle division est évaluée. Les colonnes sont sous-échantillonnées à partir de l'ensemble des colonnes choisies pour le niveau en cours."
   ]
  },
  {
   "cell_type": "markdown",
   "metadata": {
    "colab_type": "text",
    "id": "Oc2NtL3WegtE"
   },
   "source": [
    "### **subsample**\n",
    "\n",
    "_Selon la documentation de XGBoost :_\n",
    "\n",
    "> - Taux de sous-échantillonnage des instances d'entraînement. Le régler sur 0.5 signifie que XGBoost échantillonnera de manière aléatoire la moitié des données d'entraînement avant de développer les arbres, ce qui permettra d'éviter le surajustement. \n",
    "> - Le sous-échantillonnage se produira une fois à chaque itération.\n",
    "> - range: (0,1]\n",
    "\n",
    "La valeur par défaut est 1, essayons 0.75.\n",
    "\n",
    "Cela signifie que chacun de nos 25 arbres recevra un échantillonnage aléatoire de 75 % de nos données d'entraînement. Chaque arbre s'entraînera sur différentes parties des données, ce qui ajoute de l'aléatoire (similaire à `colsample_bytree`). \n",
    "\n",
    "<p align=\"center\">\n",
    "<img src=\"https://github.com/datacamp/Machine-Learning-With-XGboost-live-training/blob/master/assets/subsample.gif?raw=true\" width = \"55%\"> \n",
    "</p>\n",
    "\n",
    "Cependant, nous ne voulons pas que cette valeur soit trop basse si nous n'avons pas beaucoup d'arbres, car notre modèle risquerait de ne pas voir suffisamment de données et de ne pas s'ajuster correctement."
   ]
  },
  {
   "cell_type": "code",
   "execution_count": 132,
   "metadata": {},
   "outputs": [
    {
     "data": {
      "text/plain": [
       "0.8501016776817488"
      ]
     },
     "execution_count": 132,
     "metadata": {},
     "output_type": "execute_result"
    }
   ],
   "source": [
    "# Set subsample to 0.75 \n",
    "xgb_clf.set_params(subsample=0.75)\n",
    "\n",
    "# Fit the classifier to the training set\n",
    "xgb_clf.fit(X_train, y_train)\n",
    "\n",
    "# Predict the labels of the test set\n",
    "preds = xgb_clf.predict(X_test)\n",
    "\n",
    "# Compute the accuracy\n",
    "accuracy_score(y_test, preds)"
   ]
  },
  {
   "cell_type": "markdown",
   "metadata": {
    "colab_type": "text",
    "id": "9TQEfG-hegtK"
   },
   "source": [
    "### **gamma**\n",
    "\n",
    "_Selon la documentation de XGBoost :_\n",
    "> - Perte minimale requise pour effectuer une partition supplémentaire sur un nœud feuille de l'arbre. Plus gamma est grand, plus l'algorithme sera conservateur.\n",
    "> - range: [0,∞]\n",
    "\n",
    "\n",
    "Cela décide si un nœud se scindera en fonction de la réduction de perte attendue après la division. `gamma` représente la perte minimale requise pour qu'un nœud se scinde.\n",
    "\n",
    "<p align=\"center\">\n",
    "<img src=\"https://github.com/datacamp/Machine-Learning-With-XGboost-live-training/blob/master/assets/gamma.png?raw=true\" width = \"55%\"> \n",
    "</p>\n",
    "\n",
    "Augmenter `gamma` = moins de divisions = moins de complexité\n",
    "\n",
    "La valeur par défaut est 0, donc dans notre cas, les nœuds se sont toujours divisés jusqu'à la profondeur maximale. Augmentons cela à 0.25."
   ]
  },
  {
   "cell_type": "code",
   "execution_count": 133,
   "metadata": {},
   "outputs": [
    {
     "data": {
      "text/plain": [
       "0.850127097102186"
      ]
     },
     "execution_count": 133,
     "metadata": {},
     "output_type": "execute_result"
    }
   ],
   "source": [
    "# Set gamma to .25 \n",
    "xgb_clf.set_params(gamma=0.25)\n",
    "\n",
    "# Fit the classifier to the training set\n",
    "xgb_clf.fit(X_train, y_train)\n",
    "\n",
    "# Predict the labels of the test set\n",
    "preds = xgb_clf.predict(X_test)\n",
    "\n",
    "# Compute the accuracy\n",
    "accuracy_score(y_test, preds)"
   ]
  },
  {
   "cell_type": "markdown",
   "metadata": {
    "colab_type": "text",
    "id": "Tp92TsxLegtQ"
   },
   "source": [
    "### **Learning Rate (eta)**\n",
    "\n",
    "_Selon la documentation de XGBoost :_\n",
    "> - Taux de réduction utilisé dans la mise à jour pour prévenir le surajustement. Après chaque étape d'amplification, nous pouvons obtenir directement les poids des nouvelles fonctionnalités, et eta réduit les poids des fonctionnalités pour rendre le processus de boosting plus conservateur.\n",
    "> - range: [0,1]\n",
    "\n",
    "Le taux d'apprentissage affecte la rapidité avec laquelle un modèle apprend.\n",
    "\n",
    "Le boosting gradient fonctionne en ajoutant séquentiellement des faibles apprenants au modèle. Chaque nouveau faible apprenant tente de corriger les erreurs résiduelles des arbres précédents. Cela rend le modèle très susceptible de surajustement. Le taux d'apprentissage peut aider à ralentir l'apprentissage en réduisant les poids résultants de l'arbre actuel avant de les transmettre à l'arbre suivant.\n",
    "\n",
    "Le taux d'apprentissage actuel de notre modèle est de 0.1. Que se passe-t-il si nous le changeons à 0.3 ?"
   ]
  },
  {
   "cell_type": "code",
   "execution_count": 134,
   "metadata": {},
   "outputs": [
    {
     "data": {
      "text/plain": [
       "0.850127097102186"
      ]
     },
     "execution_count": 134,
     "metadata": {},
     "output_type": "execute_result"
    }
   ],
   "source": [
    "# Set learning rate to .3 \n",
    "xgb_clf.set_params(learning_rate=0.3)\n",
    "\n",
    "# Fit the classifier to the training set\n",
    "xgb_clf.fit(X_train, y_train)\n",
    "\n",
    "# Predict the labels of the test set\n",
    "preds = xgb_clf.predict(X_test)\n",
    "\n",
    "# Compute the accuracy\n",
    "accuracy_score(y_test, preds)"
   ]
  },
  {
   "cell_type": "markdown",
   "metadata": {
    "colab_type": "text",
    "id": "qIQ9UJzjDERA"
   },
   "source": [
    "Le taux d'apprentissage et le nombre d'arbres doivent être ajustés ensemble. Si nous diminuons le taux d'apprentissage, nous devons nous assurer d'avoir suffisamment d'arbres pour apprendre quelque chose et éviter un sous-ajustement sévère. **Par conséquent, un faible taux d'apprentissage nécessitera davantage de cycles de boosting.**"
   ]
  },
  {
   "cell_type": "markdown",
   "metadata": {
    "colab_type": "text",
    "id": "afmWgrWCegtM"
   },
   "source": [
    "### **reg_alpha**\n",
    "\n",
    "_Selon la documentation de XGBoost :_\n",
    "> Terme de régularisation L1 sur les poids. Augmenter cette valeur rendra le modèle plus conservateur.\n",
    "\n",
    "L1 est souvent appelé **régression Lasso**. Il s'agit d'une technique de régularisation fondamentale, ce qui signifie qu'elle vise à réduire le surajustement en décourageant les modèles complexes. Dans le cas du boosting gradient, L1 le fait en ajoutant des pénalités sur les poids des feuilles. Augmenter alpha conduit les poids des feuilles des apprenants de base vers 0.\n",
    "\n",
    "La valeur par défaut est 0, ce qui signifie qu'il n'y a actuellement aucune régularisation alpha dans notre modèle. Activons L1 avec une valeur de `0.01`."
   ]
  },
  {
   "cell_type": "code",
   "execution_count": 135,
   "metadata": {},
   "outputs": [
    {
     "data": {
      "text/plain": [
       "0.850127097102186"
      ]
     },
     "execution_count": 135,
     "metadata": {},
     "output_type": "execute_result"
    }
   ],
   "source": [
    "# set reg_alpha to .1 \n",
    "xgb_clf.set_params(reg_alpha=0.01)\n",
    "\n",
    "# Fit the classifier to the training set\n",
    "xgb_clf.fit(X_train, y_train)\n",
    "\n",
    "# Predict the labels of the test set\n",
    "preds = xgb_clf.predict(X_test)\n",
    "\n",
    "# Compute the accuracy\n",
    "accuracy_score(y_test, preds)"
   ]
  },
  {
   "cell_type": "markdown",
   "metadata": {
    "colab_type": "text",
    "id": "SDd4PjwCegtP"
   },
   "source": [
    "**L2**, également connue sous le nom de régression ridge, est également disponible avec le paramètre reg_lambda. L2 est réputée pour avoir une pénalité plus douce que L1. Cela signifie que les poids des feuilles diminuent de manière plus régulière, avec moins de risque de parcimonie dans les poids des feuilles. Assurez-vous donc d'essayer différentes techniques de régularisation !"
   ]
  },
  {
   "cell_type": "markdown",
   "metadata": {
    "colab_type": "text",
    "id": "AJUwZYohz4Wu"
   },
   "source": [
    "Examinons les paramètres résultants après les avoir modifiés manuellement."
   ]
  },
  {
   "cell_type": "code",
   "execution_count": 136,
   "metadata": {},
   "outputs": [
    {
     "data": {
      "text/plain": [
       "{'objective': 'binary:logistic',\n",
       " 'base_score': None,\n",
       " 'booster': None,\n",
       " 'callbacks': None,\n",
       " 'colsample_bylevel': None,\n",
       " 'colsample_bynode': None,\n",
       " 'colsample_bytree': 0.5,\n",
       " 'device': None,\n",
       " 'early_stopping_rounds': None,\n",
       " 'enable_categorical': False,\n",
       " 'eval_metric': None,\n",
       " 'feature_types': None,\n",
       " 'gamma': 0.25,\n",
       " 'grow_policy': None,\n",
       " 'importance_type': None,\n",
       " 'interaction_constraints': None,\n",
       " 'learning_rate': 0.3,\n",
       " 'max_bin': None,\n",
       " 'max_cat_threshold': None,\n",
       " 'max_cat_to_onehot': None,\n",
       " 'max_delta_step': None,\n",
       " 'max_depth': 20,\n",
       " 'max_leaves': None,\n",
       " 'min_child_weight': None,\n",
       " 'missing': nan,\n",
       " 'monotone_constraints': None,\n",
       " 'multi_strategy': None,\n",
       " 'n_estimators': 25,\n",
       " 'n_jobs': None,\n",
       " 'num_parallel_tree': None,\n",
       " 'random_state': 123,\n",
       " 'reg_alpha': 0.01,\n",
       " 'reg_lambda': None,\n",
       " 'sampling_method': None,\n",
       " 'scale_pos_weight': None,\n",
       " 'subsample': 0.75,\n",
       " 'tree_method': None,\n",
       " 'validate_parameters': None,\n",
       " 'verbosity': None}"
      ]
     },
     "execution_count": 136,
     "metadata": {},
     "output_type": "execute_result"
    }
   ],
   "source": [
    "# Print the model parameters\n",
    "xgb_clf.get_params()"
   ]
  },
  {
   "cell_type": "markdown",
   "metadata": {
    "colab_type": "text",
    "id": "Bc-k9UF1egtY"
   },
   "source": [
    "Il existe de nombreuses combinaisons possibles de paramètres. Nous ne pouvons pas les ajuster manuellement et les choisir."
   ]
  },
  {
   "cell_type": "markdown",
   "metadata": {},
   "source": [
    "### **Effets de quelques hyperparamètres sur le modèle**\n",
    "Nous allons faire l'étude sur une dataset de classification (diabetes) mais c'est exactement la même chose avec de la régression."
   ]
  },
  {
   "cell_type": "code",
   "execution_count": 157,
   "metadata": {},
   "outputs": [
    {
     "data": {
      "text/html": [
       "<div>\n",
       "<style scoped>\n",
       "    .dataframe tbody tr th:only-of-type {\n",
       "        vertical-align: middle;\n",
       "    }\n",
       "\n",
       "    .dataframe tbody tr th {\n",
       "        vertical-align: top;\n",
       "    }\n",
       "\n",
       "    .dataframe thead th {\n",
       "        text-align: right;\n",
       "    }\n",
       "</style>\n",
       "<table border=\"1\" class=\"dataframe\">\n",
       "  <thead>\n",
       "    <tr style=\"text-align: right;\">\n",
       "      <th></th>\n",
       "      <th>Pregnancies</th>\n",
       "      <th>Glucose</th>\n",
       "      <th>BloodPressure</th>\n",
       "      <th>SkinThickness</th>\n",
       "      <th>Insulin</th>\n",
       "      <th>BMI</th>\n",
       "      <th>DiabetesPedigreeFunction</th>\n",
       "      <th>Age</th>\n",
       "      <th>Outcome</th>\n",
       "    </tr>\n",
       "  </thead>\n",
       "  <tbody>\n",
       "    <tr>\n",
       "      <th>0</th>\n",
       "      <td>6</td>\n",
       "      <td>148</td>\n",
       "      <td>72</td>\n",
       "      <td>35</td>\n",
       "      <td>0</td>\n",
       "      <td>33.6</td>\n",
       "      <td>0.627</td>\n",
       "      <td>50</td>\n",
       "      <td>1</td>\n",
       "    </tr>\n",
       "    <tr>\n",
       "      <th>1</th>\n",
       "      <td>1</td>\n",
       "      <td>85</td>\n",
       "      <td>66</td>\n",
       "      <td>29</td>\n",
       "      <td>0</td>\n",
       "      <td>26.6</td>\n",
       "      <td>0.351</td>\n",
       "      <td>31</td>\n",
       "      <td>0</td>\n",
       "    </tr>\n",
       "    <tr>\n",
       "      <th>2</th>\n",
       "      <td>8</td>\n",
       "      <td>183</td>\n",
       "      <td>64</td>\n",
       "      <td>0</td>\n",
       "      <td>0</td>\n",
       "      <td>23.3</td>\n",
       "      <td>0.672</td>\n",
       "      <td>32</td>\n",
       "      <td>1</td>\n",
       "    </tr>\n",
       "    <tr>\n",
       "      <th>3</th>\n",
       "      <td>1</td>\n",
       "      <td>89</td>\n",
       "      <td>66</td>\n",
       "      <td>23</td>\n",
       "      <td>94</td>\n",
       "      <td>28.1</td>\n",
       "      <td>0.167</td>\n",
       "      <td>21</td>\n",
       "      <td>0</td>\n",
       "    </tr>\n",
       "    <tr>\n",
       "      <th>4</th>\n",
       "      <td>0</td>\n",
       "      <td>137</td>\n",
       "      <td>40</td>\n",
       "      <td>35</td>\n",
       "      <td>168</td>\n",
       "      <td>43.1</td>\n",
       "      <td>2.288</td>\n",
       "      <td>33</td>\n",
       "      <td>1</td>\n",
       "    </tr>\n",
       "  </tbody>\n",
       "</table>\n",
       "</div>"
      ],
      "text/plain": [
       "   Pregnancies  Glucose  BloodPressure  SkinThickness  Insulin   BMI  \\\n",
       "0            6      148             72             35        0  33.6   \n",
       "1            1       85             66             29        0  26.6   \n",
       "2            8      183             64              0        0  23.3   \n",
       "3            1       89             66             23       94  28.1   \n",
       "4            0      137             40             35      168  43.1   \n",
       "\n",
       "   DiabetesPedigreeFunction  Age  Outcome  \n",
       "0                     0.627   50        1  \n",
       "1                     0.351   31        0  \n",
       "2                     0.672   32        1  \n",
       "3                     0.167   21        0  \n",
       "4                     2.288   33        1  "
      ]
     },
     "execution_count": 157,
     "metadata": {},
     "output_type": "execute_result"
    }
   ],
   "source": [
    "data = pd.read_csv('./data/diabetes.csv', skipinitialspace=True)\n",
    "\n",
    "X, Y = data.iloc[:,:-1], data.iloc[:,-1]\n",
    "\n",
    "X_train, X_test, y_train, y_test= train_test_split(X, Y, test_size=.2, random_state=42)\n",
    "\n",
    "data.head()"
   ]
  },
  {
   "cell_type": "code",
   "execution_count": 154,
   "metadata": {},
   "outputs": [],
   "source": [
    "# XGBoost (Avec différents taux d'apprentissage)\n",
    "learning_rate_range = np.arange(0.01, 1, 0.05)\n",
    "test_XG = [] \n",
    "train_XG = []\n",
    "for lr in learning_rate_range:\n",
    "    xgb_classifier = xgb.XGBClassifier(eta = lr)\n",
    "    xgb_classifier.fit(X_train, y_train)\n",
    "    train_XG.append(xgb_classifier.score(X_train, y_train))\n",
    "    test_XG.append(xgb_classifier.score(X_test, y_test))"
   ]
  },
  {
   "cell_type": "code",
   "execution_count": 155,
   "metadata": {},
   "outputs": [
    {
     "data": {
      "image/png": "[encoded data removed]",
      "text/plain": [
       "<Figure size 1000x700 with 1 Axes>"
      ]
     },
     "metadata": {},
     "output_type": "display_data"
    }
   ],
   "source": [
    "fig = plt.figure(figsize=(10, 7))\n",
    "plt.plot(learning_rate_range, train_XG, c='orange', label='Train')\n",
    "plt.plot(learning_rate_range, test_XG, c='m', label='Test')\n",
    "plt.xlabel('Learning rate')\n",
    "plt.xticks(learning_rate_range)\n",
    "plt.ylabel('Accuracy score')\n",
    "plt.ylim(0.6, 1)\n",
    "plt.legend(prop={'size': 12}, loc=3)\n",
    "plt.title('Accuracy score vs. Learning rate of XGBoost', size=14)\n",
    "plt.show()"
   ]
  },
  {
   "cell_type": "markdown",
   "metadata": {},
   "source": [
    "#### Interprétation\n",
    "Les résultats sont vraiment bons (>80%) pour le training et ça converge vite mais on remarque très facilement le problème d'overfitting qui se produit dans le test set (test accuracy diminue très vite), d'où l'intérêt d'appliquer une régularisation avec d'autres hyperparamètres.\n",
    "\n",
    "En général, nous pouvons réduire le nombre d'itérations (n_estimators) et le taux d'apprentissage (learning_rate), ou augmenter le gain minimum requis dans un nœud (gamma) et le paramètre de régularisation (reg_lambda), de sorte que le modèle ne puisse pas apprendre trop précisément les caractéristiques de l'ensemble d'entraînement.\n",
    "\n",
    "Dans cet exemple, nous allons seulement ajuster reg_lambda à 1 et rechercher de manière exhaustive le poids minimum des enfants (min_child_weight) optimal pour réduire le problème de surajustement. Dans le monde réel, nous pouvons utiliser une recherche exhaustive (grid search) et une validation croisée K-fold pour trouver la meilleure combinaison de paramètres.\n",
    "\n",
    "On va notamment ajuster la plage des valeurs du learning rate convenablement pour éviter la forte baisse d'accuracy."
   ]
  },
  {
   "cell_type": "code",
   "execution_count": 156,
   "metadata": {},
   "outputs": [
    {
     "data": {
      "image/png": "[encoded data removed]",
      "text/plain": [
       "<Figure size 1900x1700 with 9 Axes>"
      ]
     },
     "metadata": {},
     "output_type": "display_data"
    }
   ],
   "source": [
    "# new learning rate range\n",
    "learning_rate_range = np.arange(0.01, 0.5, 0.05)\n",
    "fig = plt.figure(figsize=(19, 17))\n",
    "idx = 1\n",
    "# grid search for min_child_weight\n",
    "for weight in np.arange(0, 4.5, 0.5):\n",
    "    train = []\n",
    "    test = []\n",
    "    for lr in learning_rate_range:\n",
    "        xgb_classifier = xgb.XGBClassifier(eta = lr, reg_lambda=1, min_child_weight=weight)\n",
    "        xgb_classifier.fit(X_train, y_train)\n",
    "        train.append(xgb_classifier.score(X_train, y_train))\n",
    "        test.append(xgb_classifier.score(X_test, y_test))\n",
    "    fig.add_subplot(3, 3, idx)\n",
    "    idx += 1\n",
    "    plt.plot(learning_rate_range, train, c='orange', label='Training')\n",
    "    plt.plot(learning_rate_range, test, c='m', label='Testing')\n",
    "    plt.xlabel('Learning rate')\n",
    "    plt.xticks(learning_rate_range)\n",
    "    plt.ylabel('Accuracy score')\n",
    "    plt.ylim(0.6, 1)\n",
    "    plt.legend(prop={'size': 12}, loc=3)\n",
    "    title = \"Min child weight:\" + str(weight)\n",
    "    plt.title(title, size=16)\n",
    "plt.show()"
   ]
  },
  {
   "cell_type": "markdown",
   "metadata": {},
   "source": [
    "On remaque que jouer sur la paramètre min_child_width permet de diminuer le sur-apprentissage et rapprocher légèrement les deux graphes de train et test. On peut également voir que la valeur qui permet de minimiser le sur-apprentissage est min_child_width=3.5.\n",
    "\n",
    "Cet exemple démontre la puissance de XGBoost et sa flexibilité en termes d'ajustement des paramètres. De plus, si vous exécutez l'algorithme sur votre machine, vous constaterez qu'il est en réalité rapide en raison de sa nature de calcul parallèle.\n",
    "\n",
    "Cependant, nous devrions toujours accorder une attention particulière au problème du sur-apprentissage. Les algorithmes de boosting, y compris XGBoost, peuvent apprendre les données d'entraînement de manière trop précise et détaillée, échouant à capturer la tendance générale. Heureusement, nous pouvons toujours ajuster les paramètres pour limiter sa capacité d'apprentissage jusqu'à ce que nous trouvions un niveau de sur-apprentissage acceptable."
   ]
  }
 ],
 "metadata": {
  "kernelspec": {
   "display_name": "Python 3 (ipykernel)",
   "language": "python",
   "name": "python3"
  },
  "language_info": {
   "codemirror_mode": {
    "name": "ipython",
    "version": 3
   },
   "file_extension": ".py",
   "mimetype": "text/x-python",
   "name": "python",
   "nbconvert_exporter": "python",
   "pygments_lexer": "ipython3",
   "version": "3.11.1"
  }
 },
 "nbformat": 4,
 "nbformat_minor": 2
}
